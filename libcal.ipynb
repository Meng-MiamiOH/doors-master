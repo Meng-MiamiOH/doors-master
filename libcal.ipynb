{
 "cells": [
  {
   "cell_type": "markdown",
   "metadata": {},
   "source": [
    "## Making room and equipment reservations via LibCal API"
   ]
  },
  {
   "cell_type": "markdown",
   "metadata": {},
   "source": [
    "#### 1. Get Token"
   ]
  },
  {
   "cell_type": "code",
   "execution_count": 1,
   "metadata": {},
   "outputs": [
    {
     "name": "stdout",
     "output_type": "stream",
     "text": [
      "{'access_token': '6e82deb2c3a5f8358537c3614e1f0dc554157366', 'expires_in': 3600, 'token_type': 'Bearer', 'scope': 'rm_r sp_r'}\n"
     ]
    }
   ],
   "source": [
    "import requests\n",
    "import configparser\n",
    "\n",
    "config = configparser.ConfigParser()\n",
    "\n",
    "config.read('config.ini')\n",
    "url = config['DEFAULT']['url']\n",
    "client_id = config['DEFAULT']['client_id']\n",
    "client_secret = config['DEFAULT']['client_secret']\n",
    "grant_type = config['DEFAULT']['grant_type']\n",
    "\n",
    "\n",
    "def get_access_token():\n",
    "    response = requests.post(\n",
    "        url,\n",
    "        data={\"grant_type\": grant_type},\n",
    "        auth=(client_id, client_secret),\n",
    "    )\n",
    "    return response.json()\n",
    "\n",
    "t = get_access_token()\n",
    "\n",
    "# To check if getting token successed\n",
    "print(t)\n"
   ]
  },
  {
   "cell_type": "markdown",
   "metadata": {},
   "source": [
    "#### 2. Read Category Rooms Reservations"
   ]
  },
  {
   "cell_type": "code",
   "execution_count": 2,
   "metadata": {},
   "outputs": [
    {
     "name": "stdout",
     "output_type": "stream",
     "text": [
      "[{'bookId': 'cs_xGmV2gUX', 'id': 36548792, 'eid': 31095, 'cid': 6840, 'lid': 2047, 'fromDate': '2022-08-01T09:00:00-04:00', 'toDate': '2022-08-01T15:00:00-04:00', 'created': '2022-08-01T09:05:07-04:00', 'firstName': 'Parks', 'lastName': 'Marilla', 'email': 'king@king.com', 'account': 'king@king.com', 'status': 'Confirmed', 'location_name': 'King Library', 'category_name': 'King Study Rooms (Key Access Only)', 'item_name': 'King 128'}]\n"
     ]
    }
   ],
   "source": [
    "# king_swap = config['CATEGORIES']['swap_access']\n",
    "king_swap = config['CATEGORIES']['key_only']\n",
    "booking_url = config['DEFAULT']['booking_url']\n",
    "\n",
    "header = {'Authorization': f'Bearer {t[\"access_token\"]}'}\n",
    "\n",
    "response = requests.get(booking_url.format(king_swap), headers=header)\n",
    "\n",
    "# To check if reading rooms availability is successful\n",
    "bookings = response.json()\n",
    "\n",
    "print(bookings)"
   ]
  },
  {
   "cell_type": "markdown",
   "metadata": {},
   "source": [
    "#### 3. Check if user ID is found in the list of reservations. Return booking index if found."
   ]
  },
  {
   "cell_type": "code",
   "execution_count": 5,
   "metadata": {},
   "outputs": [
    {
     "name": "stdout",
     "output_type": "stream",
     "text": [
      "Booking id cs_V7mal2uA is Confirmed\n",
      "Booking id cs_mXwR9ZFb is Confirmed\n",
      "None\n",
      "1\n"
     ]
    }
   ],
   "source": [
    "booking_index = -1\n",
    "\n",
    "def hasUserID(userID):\n",
    "    global booking_index\n",
    "    for idx, booking in enumerate(bookings):\n",
    "        status = booking['status']\n",
    "        bid = booking['bookId']\n",
    "        uid = booking['email'].split(\"@\",1)[0]\n",
    "\n",
    "        if uid == userID:\n",
    "            booking_index = idx\n",
    "            print(\"Booking id {} is {}\".format(bid, status))\n",
    "        else:\n",
    "            print(\"Not found.\")\n",
    "\n",
    "print(hasUserID('king'))\n",
    "print(booking_index)\n"
   ]
  },
  {
   "cell_type": "markdown",
   "metadata": {},
   "source": [
    "#### 4. Check Time Difference"
   ]
  },
  {
   "cell_type": "code",
   "execution_count": 4,
   "metadata": {},
   "outputs": [
    {
     "name": "stdout",
     "output_type": "stream",
     "text": [
      "Your have booked 2.0 hours\n",
      "Your reservation of King 018 will start in 2 hours 22 mintues.\n"
     ]
    }
   ],
   "source": [
    "from datetime import datetime\n",
    "import pytz\n",
    "import dateutil.parser\n",
    "\n",
    "booking = list(bookings)[booking_index]\n",
    "status = booking['status']\n",
    "bid = booking['bookId']\n",
    "uid = booking['email'][:-12]\n",
    "loc = booking['eid']\n",
    "item_name = booking['item_name']\n",
    "fromDate = dateutil.parser.isoparse(booking['fromDate'])\n",
    "toDate = dateutil.parser.isoparse(booking['toDate'])\n",
    "timeperiod = (toDate - fromDate).seconds/3600\n",
    "print(\"Your have booked {} hours\".format(timeperiod))\n",
    "\n",
    "EST = pytz.timezone('US/Eastern')\n",
    "dateTime_now = datetime.now(EST).isoformat('T',\"seconds\")\n",
    "parsed_dtnow = dateutil.parser.isoparse(dateTime_now)\n",
    "# parsed_dtnow = dateutil.parser.isoparse('2022-06-23 18:52:13-04:00')\n",
    "\n",
    "def checkin_time_relative():\n",
    "    # student checkin before the starting time\n",
    "    if parsed_dtnow < fromDate:\n",
    "        return 1\n",
    "    # student checkin during the reservation period\n",
    "    elif parsed_dtnow < toDate and parsed_dtnow > fromDate:\n",
    "        return 2\n",
    "    # student checkin after the ending time \n",
    "    elif parsed_dtnow > toDate:\n",
    "        return 3\n",
    "    # error\n",
    "    else:\n",
    "        return -1\n",
    "\n",
    "def time_difference(sometime):\n",
    "    timediffer = lambda sometime: sometime - parsed_dtnow if sometime > parsed_dtnow else parsed_dtnow - sometime\n",
    "\n",
    "    tf_hours = timediffer(sometime).seconds / 3600\n",
    "    tf_minutes = timediffer(sometime).seconds / 60\n",
    "\n",
    "    if tf_hours > 1:\n",
    "        return str(int(tf_hours)) + \" hours \" + str(int(tf_minutes) - int(tf_hours) * 60) + \" mintues\"\n",
    "    else:\n",
    "        return str(int(tf_minutes)) +  \" minutes\"\n",
    "\n",
    "notice_str = \"Your reservation of \" + item_name + \" {} {}.\"\n",
    "\n",
    "if checkin_time_relative() == 1:\n",
    "    print(notice_str.format(\"will start in\", time_difference(fromDate)))\n",
    "if checkin_time_relative() == 2:\n",
    "    print(notice_str.format(\"has started for\", time_difference(fromDate)))\n",
    "if checkin_time_relative() == 3:\n",
    "    print(notice_str.format(\"has ended for\", time_difference(toDate)))\n",
    "if checkin_time_relative() == -1:\n",
    "    print(\"This is an error. Your reservation starts at {}, ends at {}\".format(fromDate, toDate))"
   ]
  },
  {
   "cell_type": "code",
   "execution_count": null,
   "metadata": {},
   "outputs": [],
   "source": []
  },
  {
   "cell_type": "markdown",
   "metadata": {},
   "source": [
    "# Archived: 3. Book a Room"
   ]
  },
  {
   "cell_type": "code",
   "execution_count": 9,
   "metadata": {},
   "outputs": [
    {
     "data": {
      "text/plain": [
       "{'booking_id': 'cs_g4Al7mFg', 'cost': '0'}"
      ]
     },
     "execution_count": 9,
     "metadata": {},
     "output_type": "execute_result"
    }
   ],
   "source": [
    "# E.g. Book \"Chat-Bot-Testing\" building, Room1\n",
    "\n",
    "reserve_url = config['DEFAULT']['resv_url']\n",
    "\n",
    "# Put customized reservation information below:\n",
    "start_time = \"2022-04-30T22:00:00-05:00\"\n",
    "room_id = config['ROOMS']['Room1']\n",
    "customer_fname = \"FNAME\"\n",
    "customer_lname = \"LNAME\"\n",
    "email_address = \"example@abcabc.com\"\n",
    "end_time = \"2022-04-30T22:15:00-05:00\"\n",
    "\n",
    "\n",
    "payload = {\n",
    "    \"start\": start_time,\n",
    "    \"fname\": customer_fname,\n",
    "    \"lname\": customer_lname,\n",
    "    \"email\": email_address,\n",
    "    # \"adminbooking\": 1,\n",
    "    \"bookings\": [\n",
    "        {\n",
    "            \"id\": room_id,\n",
    "            \"to\": end_time\n",
    "        },\n",
    "    ]\n",
    "}\n",
    "\n",
    "response = requests.post(reserve_url, headers=header, json=payload)\n",
    "\n",
    "# Return the confirmation: booking_id, indicates that the reservation is successful.\n",
    "response.json()\n"
   ]
  },
  {
   "cell_type": "markdown",
   "metadata": {},
   "source": [
    "#### 4. Delete an Existing Room Reservation"
   ]
  },
  {
   "cell_type": "code",
   "execution_count": 10,
   "metadata": {},
   "outputs": [
    {
     "data": {
      "text/plain": [
       "[{'booking_id': 'cs_g4Al7mFg', 'cancelled': True}]"
      ]
     },
     "execution_count": 10,
     "metadata": {},
     "output_type": "execute_result"
    }
   ],
   "source": [
    "cancel_url = config['DEFAULT']['cancel_url']\n",
    "booking_id = \"cs_g4Al7mFg\"\n",
    "\n",
    "cancel_response = requests.post(f'{cancel_url}/{booking_id}', headers=header)\n",
    "\n",
    "# Return \"True\" as cancel successed\n",
    "cancel_response.json()"
   ]
  },
  {
   "cell_type": "code",
   "execution_count": null,
   "metadata": {},
   "outputs": [],
   "source": [
    "!pip install requests"
   ]
  }
 ],
 "metadata": {
  "kernelspec": {
   "display_name": "Python 3.10.5 64-bit",
   "language": "python",
   "name": "python3"
  },
  "language_info": {
   "codemirror_mode": {
    "name": "ipython",
    "version": 3
   },
   "file_extension": ".py",
   "mimetype": "text/x-python",
   "name": "python",
   "nbconvert_exporter": "python",
   "pygments_lexer": "ipython3",
   "version": "3.10.5"
  },
  "orig_nbformat": 4,
  "vscode": {
   "interpreter": {
    "hash": "aee8b7b246df8f9039afb4144a1f6fd8d2ca17a180786b69acc140d282b71a49"
   }
  }
 },
 "nbformat": 4,
 "nbformat_minor": 2
}
